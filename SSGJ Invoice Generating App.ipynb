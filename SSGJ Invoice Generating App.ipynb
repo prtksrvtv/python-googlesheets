{
 "cells": [
  {
   "cell_type": "code",
   "execution_count": 1,
   "id": "2f392fea",
   "metadata": {},
   "outputs": [],
   "source": [
    "from tkinter import *\n",
    "from tkinter import ttk\n",
    "from tkinter.ttk import *\n",
    "import tkinter as tk\n",
    "from stock_entry_app import *\n",
    "\n",
    "ws = Tk()\n",
    "ws.title('Prikaway Pvt. Ltd.')\n",
    "ws.geometry('300x300')\n",
    "ws.config(bg='#345')\n",
    "lbl=tk.Label(ws, text=\"SELECT TASK BELOW\",font=('calibre',10, 'bold'))\n",
    "lbl.pack(padx=10,pady=10)\n",
    "    \n",
    "start = Button(\n",
    "    ws,\n",
    "    text='Raashan Bill',\n",
    "    command= lambda: choice(1)\n",
    "    )\n",
    "\n",
    "start.pack(padx=10,pady=10)\n",
    "\n",
    "stop = Button(\n",
    "    ws,\n",
    "    text='Non Veg Bill', command= lambda: choice(2)\n",
    ")\n",
    "stop.pack(padx=10,pady=10)\n",
    "\n",
    "cover = Button(\n",
    "    ws,\n",
    "    text='Fruits & Vegertables', command= lambda: choice(3)\n",
    "    )\n",
    "\n",
    "cover.pack(padx=10,pady=10)\n",
    "\n",
    "ws.mainloop()"
   ]
  },
  {
   "cell_type": "code",
   "execution_count": null,
   "id": "2ef76459",
   "metadata": {},
   "outputs": [],
   "source": []
  }
 ],
 "metadata": {
  "kernelspec": {
   "display_name": "Python 3 (ipykernel)",
   "language": "python",
   "name": "python3"
  },
  "language_info": {
   "codemirror_mode": {
    "name": "ipython",
    "version": 3
   },
   "file_extension": ".py",
   "mimetype": "text/x-python",
   "name": "python",
   "nbconvert_exporter": "python",
   "pygments_lexer": "ipython3",
   "version": "3.9.13"
  }
 },
 "nbformat": 4,
 "nbformat_minor": 5
}
